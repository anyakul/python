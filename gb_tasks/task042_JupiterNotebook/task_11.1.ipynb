{
 "cells": [
  {
   "cell_type": "markdown",
   "id": "ed87507b",
   "metadata": {},
   "source": [
    "Дана функция f(x) = 5x^2 + 10x - 30\n",
    "\n",
    "1. Определить корни\n",
    "\n",
    "2. Найти интервалы, на которых функция возрастает\n",
    "\n",
    "3. Найти интервалы, на которых функция убывает\n",
    "\n",
    "4. Вычислить вершину\n",
    "\n",
    "5. Построить график\n",
    "\n",
    "6. Определить промежутки, на котором f > 0\n",
    "\n",
    "7. Определить промежутки, на котором f < 0"
   ]
  },
  {
   "cell_type": "code",
   "execution_count": 1,
   "id": "017ce64a",
   "metadata": {},
   "outputs": [],
   "source": [
    "import sympy"
   ]
  },
  {
   "cell_type": "code",
   "execution_count": 5,
   "id": "41125fa3",
   "metadata": {},
   "outputs": [],
   "source": [
    "x = sympy.symbols('x')\n",
    "f = 5*x**2 + 10*x - 30"
   ]
  },
  {
   "cell_type": "code",
   "execution_count": 7,
   "id": "f6f84f0a",
   "metadata": {},
   "outputs": [
    {
     "data": {
      "text/plain": [
       "[-1 + sqrt(7), -sqrt(7) - 1]"
      ]
     },
     "execution_count": 7,
     "metadata": {},
     "output_type": "execute_result"
    }
   ],
   "source": [
    "ans = sympy.solve(f)\n",
    "ans"
   ]
  },
  {
   "cell_type": "code",
   "execution_count": 32,
   "id": "9057fc9a",
   "metadata": {},
   "outputs": [
    {
     "name": "stdout",
     "output_type": "stream",
     "text": [
      "x0 = 1.65\n",
      "x1 = -3.65\n"
     ]
    }
   ],
   "source": [
    "# Корни уравнений\n",
    "\n",
    "print(f'x0 = {round(-1 + 7 ** 0.5, 2)}')\n",
    "print(f'x1 = {round(-1 - 7 ** 0.5, 2)}')"
   ]
  },
  {
   "cell_type": "markdown",
   "id": "d5b4f34e",
   "metadata": {},
   "source": [
    "1. Корни уравнений = 1.65 и -3.65"
   ]
  },
  {
   "cell_type": "code",
   "execution_count": 13,
   "id": "80dc11e6",
   "metadata": {},
   "outputs": [
    {
     "data": {
      "text/plain": [
       "0.0"
      ]
     },
     "execution_count": 13,
     "metadata": {},
     "output_type": "execute_result"
    }
   ],
   "source": [
    "x0 = -1 + 7 ** 0.5\n",
    "f0 = 5*x0**2 + 10*x0 - 30\n",
    "f0"
   ]
  },
  {
   "cell_type": "code",
   "execution_count": 15,
   "id": "0824c920",
   "metadata": {},
   "outputs": [],
   "source": [
    "f, ff = sympy.symbols('f ff')\n",
    "f = 5*x**2 + 10*x - 30"
   ]
  },
  {
   "cell_type": "code",
   "execution_count": 17,
   "id": "a76c3332",
   "metadata": {},
   "outputs": [
    {
     "data": {
      "text/latex": [
       "$\\displaystyle 10 x + 10$"
      ],
      "text/plain": [
       "10*x + 10"
      ]
     },
     "execution_count": 17,
     "metadata": {},
     "output_type": "execute_result"
    }
   ],
   "source": [
    "ff = sympy.diff(f)\n",
    "ff"
   ]
  },
  {
   "cell_type": "code",
   "execution_count": 28,
   "id": "5840b65d",
   "metadata": {},
   "outputs": [],
   "source": [
    "ans = sympy.solve(ff)"
   ]
  },
  {
   "cell_type": "markdown",
   "id": "f4a3563c",
   "metadata": {},
   "source": [
    "2. При x < -1 производная меньше нуля, значит функция убывает\n",
    "\n",
    "3. При x > -1производная меньше нуля, значит функция возрастает\n",
    "\n",
    "5. При x = -1 минимум (вершина)\n"
   ]
  },
  {
   "cell_type": "code",
   "execution_count": null,
   "id": "f8f58933",
   "metadata": {},
   "outputs": [],
   "source": [
    "import matplotlib.pyplot as plt\n",
    "import numpy as np"
   ]
  },
  {
   "cell_type": "code",
   "execution_count": 44,
   "id": "2581d7fd",
   "metadata": {},
   "outputs": [
    {
     "data": {
      "text/plain": [
       "array([-20.  , -19.99, -19.98, ...,  19.99,  20.  ,  20.01])"
      ]
     },
     "execution_count": 44,
     "metadata": {},
     "output_type": "execute_result"
    }
   ],
   "source": [
    "x = np.arange(-20, 20.01, 0.01)\n",
    "x"
   ]
  },
  {
   "cell_type": "markdown",
   "id": "97caa88b",
   "metadata": {},
   "source": [
    "5. График функции"
   ]
  },
  {
   "cell_type": "code",
   "execution_count": 48,
   "id": "f5e63181",
   "metadata": {},
   "outputs": [
    {
     "data": {
      "image/png": "[encoded data removed]",
      "text/plain": [
       "<Figure size 640x480 with 1 Axes>"
      ]
     },
     "metadata": {},
     "output_type": "display_data"
    }
   ],
   "source": [
    "f = 5*x**2 + 10*x - 30\n",
    "plt.plot(x, f)\n",
    "f2 = 0 * x\n",
    "plt.plot(x, f2)\n",
    "plt.show()"
   ]
  },
  {
   "cell_type": "markdown",
   "id": "e0814b4a",
   "metadata": {},
   "source": [
    "6. при x < чем -sqrt(7) - 1 или x больше -1 + sqrt(7) функция больше нуля\n",
    "\n",
    "7. при x от -sqrt(7) - 1 до -1 + sqrt(7) функция меньше нуля"
   ]
  }
 ],
 "metadata": {
  "kernelspec": {
   "display_name": "Python 3.10.7 64-bit",
   "language": "python",
   "name": "python3"
  },
  "language_info": {
   "codemirror_mode": {
    "name": "ipython",
    "version": 3
   },
   "file_extension": ".py",
   "mimetype": "text/x-python",
   "name": "python",
   "nbconvert_exporter": "python",
   "pygments_lexer": "ipython3",
   "version": "3.10.7"
  },
  "vscode": {
   "interpreter": {
    "hash": "91acf93a9955760192115032a95171fd100fb7ac22a6ba85a30b9c068c436f6f"
   }
  }
 },
 "nbformat": 4,
 "nbformat_minor": 5
}
